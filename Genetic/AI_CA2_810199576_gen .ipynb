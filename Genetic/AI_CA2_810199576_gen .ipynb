{
 "cells": [
  {
   "cell_type": "markdown",
   "metadata": {},
   "source": [
    "##Genetic - Mohammad hosein Aghili - 810199576"
   ]
  },
  {
   "cell_type": "code",
   "execution_count": 8,
   "metadata": {
    "id": "cpGWztiUA_GL"
   },
   "outputs": [],
   "source": [
    "import random\n",
    "import pandas as pd \n",
    "import numpy\n",
    "from copy import copy, deepcopy\n",
    "    \n",
    "  \n",
    "PATH = 'sample.csv'\n",
    "ALPHA = 10\n"
   ]
  },
  {
   "cell_type": "markdown",
   "metadata": {
    "id": "X1V2D-k2A0MK"
   },
   "source": [
    "ابتدا ژن و کروموزوم را تعریف میکنیم"
   ]
  },
  {
   "cell_type": "code",
   "execution_count": 11,
   "metadata": {
    "id": "lQSqJT8gAqNs"
   },
   "outputs": [],
   "source": [
    "class Chromosome:\n",
    "    fitness: float\n",
    "    df: pd.core.frame.DataFrame\n",
    "  \n",
    "        \n",
    "    def __init__(self, coefee: numpy.ndarray):\n",
    "        self.fitness = 0\n",
    "        self.coefee = pd.DataFrame(coefee, columns = ['coefee'])\n",
    "        self.coefee['ticker'] = self.df['coefee']\n",
    "        self.update()\n",
    "        \n",
    "    def update(self):\n",
    "        self.coefee['coefee']/=self.__coefee['coefee'].sum() #normolize coefee to ensure sum of coefee is equal to 1.\n",
    "        self.coefee['return'] = self.df['return']*self.coefee['coefee']\n",
    "        self.coefee['risk'] = self.df['risk']*self.coefee['coefee']\n",
    "        \n",
    "    def fitnessValue(self):\n",
    "        self.update()\n",
    "        riskValue  = self.coefee['risk'].sum()\n",
    "        returnValue  = self.coefee['return'].sum()\n",
    "        self.coefee = returnValue - ALPHA*riskValue\n",
    "        return self.coefee\n",
    "    \n",
    "    \n",
    "    "
   ]
  },
  {
   "cell_type": "markdown",
   "metadata": {
    "id": "t7KUBP_wA1Nq"
   },
   "source": [
    "حال جمعیت اولیه را تعریف میکنیم:"
   ]
  },
  {
   "cell_type": "code",
   "execution_count": 12,
   "metadata": {
    "id": "dg5IdmIyA1qb"
   },
   "outputs": [],
   "source": [
    "class Population:\n",
    "    population_size: int\n",
    "    firstPopulation = dict[Chromosome: float]\n",
    "    \n",
    "    \n",
    "    def __init__(self, population_size: int):\n",
    "        self.population_size = population_size\n",
    "        self.firstPopulation = {}\n",
    "       \n",
    "        \n",
    "    def creatRandChromosome(self, population_size: int):\n",
    "        coefee = numpy.random.rand(population_size)\n",
    "        coefee = coefee/coefee.sum()\n",
    "        newChromosom = Chromosome(coefee)\n",
    "        return newChromosom\n",
    "    \n",
    "    def creatFirstPopulation(self) :\n",
    "        Chromosome.df = pd.read_csv(PATH)   \n",
    "        for i in range(self.population_size):\n",
    "            newChromosom = self.creatRandChromosome(len(Chromosome.df))  \n",
    "            self.firstPopulation[newChromosom] = newChromosom.fitnessValue # calculate fitness value and add it to dictionary as value to chromosom key\n",
    "\n",
    "        self.firstPopulation = dict(sorted(self.firstPopulation.items(), key=lambda x: x[1])) # sort in ascending order based on the fitness value.\n",
    "    \n",
    "    "
   ]
  },
  {
   "cell_type": "markdown",
   "metadata": {
    "id": "qfO0-uEDkMmO"
   },
   "source": [
    ":بخش 7 **سوالات**\n",
    "\n",
    "\n",
    "\n"
   ]
  },
  {
   "cell_type": "markdown",
   "metadata": {
    "id": "_iBOL_4Ok2yJ"
   },
   "source": [
    "1-  جمعیت کوچک موجب تنوع کم کروموزمها و در نهایت ناموفق ماندن الگوریتم می شود . استفاده از جمعیت زیاد\n",
    " بسیار هزینه بر است و نیازمند قدرت محاسباتی بالایی است. بنابراین باید اندازه مناسبی را برای جمعیت اولیه بدست آورد\n",
    "\n",
    "\n",
    " "
   ]
  },
  {
   "cell_type": "markdown",
   "metadata": {
    "id": "D3xUdJ4ekZc_"
   },
   "source": [
    "2-  دقت جواب نهایی نیز افزایش مییابد؛ ولی جمعیت زیاد محاسبات\n",
    "زیادی دارد و در نتیجه  زمان الگوریتم بیشتر\n",
    "میشود .\n",
    "\n",
    "\n"
   ]
  },
  {
   "cell_type": "markdown",
   "metadata": {
    "id": "-5TiV670kZ72"
   },
   "source": [
    "3- \n",
    "**کراس اور** با ترکیب کردن کروموزوم ها نسل بعدی را تولید میکند و چون ما از بهترین کروموزوم ها برای این عملیات استفاده میکنیم، در هر مرحله باعث پیشرفت کروموزوم ها میشویم\n",
    "\n",
    "در **میوتیشن** با استفاده از تغییر دادن تصادفی ژن ها سعی داریم به کروموزوم  بهتری برسیم \n",
    "\n",
    "اگر فقط از **کراس** **اور** استفاده کنیم نسل کروموزوم ها به سرعت به نقطه ای ثابت میرسد و اگر فقط از **میوتیشن** استفاده کنیم به جواب نخواهیم رسید و فقط باعث پیشرفت جمعیت میشود\n"
   ]
  },
  {
   "cell_type": "markdown",
   "metadata": {
    "id": "905ycFELkaYd"
   },
   "source": [
    "4-Population size. Alpha coefee"
   ]
  },
  {
   "cell_type": "markdown",
   "metadata": {
    "id": "kqylv0kQka1G"
   },
   "source": [
    "5-از mutation استفاده میکنیم"
   ]
  },
  {
   "cell_type": "markdown",
   "metadata": {
    "id": "AAfN3l4xkbFd"
   },
   "source": [
    "6-محدودیت زمان . محدودیت تعداد دفعه اجرای الگوریتم و…"
   ]
  }
 ],
 "metadata": {
  "colab": {
   "provenance": []
  },
  "kernelspec": {
   "display_name": "Python 3 (ipykernel)",
   "language": "python",
   "name": "python3"
  },
  "language_info": {
   "codemirror_mode": {
    "name": "ipython",
    "version": 3
   },
   "file_extension": ".py",
   "mimetype": "text/x-python",
   "name": "python",
   "nbconvert_exporter": "python",
   "pygments_lexer": "ipython3",
   "version": "3.8.10"
  }
 },
 "nbformat": 4,
 "nbformat_minor": 1
}
